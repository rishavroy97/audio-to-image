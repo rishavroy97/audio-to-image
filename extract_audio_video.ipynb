{
 "cells": [
  {
   "cell_type": "code",
   "execution_count": 1,
   "metadata": {
    "ExecuteTime": {
     "end_time": "2024-04-22T01:45:54.324742Z",
     "start_time": "2024-04-22T01:45:46.494815Z"
    }
   },
   "outputs": [
    {
     "name": "stdout",
     "output_type": "stream",
     "text": [
      "Defaulting to user installation because normal site-packages is not writeable\n",
      "Requirement already satisfied: moviepy in /ext3/miniconda3/lib/python3.12/site-packages (1.0.3)\n",
      "Requirement already satisfied: pytube in /ext3/miniconda3/lib/python3.12/site-packages (15.0.0)\n",
      "Requirement already satisfied: decorator<5.0,>=4.0.2 in /ext3/miniconda3/lib/python3.12/site-packages (from moviepy) (4.4.2)\n",
      "Requirement already satisfied: tqdm<5.0,>=4.11.2 in /ext3/miniconda3/lib/python3.12/site-packages (from moviepy) (4.65.0)\n",
      "Requirement already satisfied: requests<3.0,>=2.8.1 in /ext3/miniconda3/lib/python3.12/site-packages (from moviepy) (2.31.0)\n",
      "Requirement already satisfied: proglog<=1.0.0 in /ext3/miniconda3/lib/python3.12/site-packages (from moviepy) (0.1.10)\n",
      "Requirement already satisfied: numpy>=1.17.3 in /home/as18464/.local/lib/python3.12/site-packages (from moviepy) (1.26.4)\n",
      "Requirement already satisfied: imageio<3.0,>=2.5 in /ext3/miniconda3/lib/python3.12/site-packages (from moviepy) (2.34.1)\n",
      "Requirement already satisfied: imageio-ffmpeg>=0.2.0 in /ext3/miniconda3/lib/python3.12/site-packages (from moviepy) (0.4.9)\n",
      "Requirement already satisfied: pillow>=8.3.2 in /ext3/miniconda3/lib/python3.12/site-packages (from imageio<3.0,>=2.5->moviepy) (10.3.0)\n",
      "Requirement already satisfied: setuptools in /ext3/miniconda3/lib/python3.12/site-packages (from imageio-ffmpeg>=0.2.0->moviepy) (68.2.2)\n",
      "Requirement already satisfied: charset-normalizer<4,>=2 in /ext3/miniconda3/lib/python3.12/site-packages (from requests<3.0,>=2.8.1->moviepy) (2.0.4)\n",
      "Requirement already satisfied: idna<4,>=2.5 in /ext3/miniconda3/lib/python3.12/site-packages (from requests<3.0,>=2.8.1->moviepy) (3.4)\n",
      "Requirement already satisfied: urllib3<3,>=1.21.1 in /ext3/miniconda3/lib/python3.12/site-packages (from requests<3.0,>=2.8.1->moviepy) (2.1.0)\n",
      "Requirement already satisfied: certifi>=2017.4.17 in /ext3/miniconda3/lib/python3.12/site-packages (from requests<3.0,>=2.8.1->moviepy) (2024.2.2)\n"
     ]
    }
   ],
   "source": [
    "!pip install moviepy pytube\n",
    "import concurrent.futures\n",
    "import datetime\n",
    "import os\n",
    "\n",
    "import pandas as pd\n",
    "import torch\n",
    "from moviepy.editor import VideoFileClip\n",
    "from pytube import YouTube"
   ]
  },
  {
   "cell_type": "code",
   "execution_count": 2,
   "metadata": {
    "ExecuteTime": {
     "end_time": "2024-04-22T01:45:54.329461Z",
     "start_time": "2024-04-22T01:45:54.325748Z"
    }
   },
   "outputs": [],
   "source": [
    "TIME_DURATION_IN_SEC = 10\n",
    "CSV_FILE = './vggsound.csv'"
   ]
  },
  {
   "cell_type": "code",
   "execution_count": 3,
   "metadata": {
    "ExecuteTime": {
     "end_time": "2024-04-22T01:46:07.991252Z",
     "start_time": "2024-04-22T01:46:07.985980Z"
    }
   },
   "outputs": [],
   "source": [
    "# Rename the columns\n",
    "new_column_names = {\n",
    "    '---g-f_I2yQ': 'youtube_video_id',\n",
    "    '1': 'start_seconds',\n",
    "    'people marching': 'label',\n",
    "    'test': 'split',\n",
    "}"
   ]
  },
  {
   "cell_type": "code",
   "execution_count": 4,
   "metadata": {
    "ExecuteTime": {
     "end_time": "2024-04-22T01:46:20.670428Z",
     "start_time": "2024-04-22T01:46:20.410096Z"
    }
   },
   "outputs": [],
   "source": [
    "# Rename the columns\n",
    "df = pd.read_csv(CSV_FILE)\n",
    "df.rename(columns=new_column_names, inplace=True)"
   ]
  },
  {
   "cell_type": "code",
   "execution_count": 5,
   "metadata": {
    "ExecuteTime": {
     "end_time": "2024-04-22T01:46:21.518231Z",
     "start_time": "2024-04-22T01:46:21.498140Z"
    }
   },
   "outputs": [
    {
     "data": {
      "text/html": [
       "<div>\n",
       "<style scoped>\n",
       "    .dataframe tbody tr th:only-of-type {\n",
       "        vertical-align: middle;\n",
       "    }\n",
       "\n",
       "    .dataframe tbody tr th {\n",
       "        vertical-align: top;\n",
       "    }\n",
       "\n",
       "    .dataframe thead th {\n",
       "        text-align: right;\n",
       "    }\n",
       "</style>\n",
       "<table border=\"1\" class=\"dataframe\">\n",
       "  <thead>\n",
       "    <tr style=\"text-align: right;\">\n",
       "      <th></th>\n",
       "      <th>youtube_video_id</th>\n",
       "      <th>start_seconds</th>\n",
       "      <th>label</th>\n",
       "      <th>split</th>\n",
       "    </tr>\n",
       "  </thead>\n",
       "  <tbody>\n",
       "    <tr>\n",
       "      <th>0</th>\n",
       "      <td>--0PQM4-hqg</td>\n",
       "      <td>30</td>\n",
       "      <td>waterfall burbling</td>\n",
       "      <td>train</td>\n",
       "    </tr>\n",
       "    <tr>\n",
       "      <th>1</th>\n",
       "      <td>--56QUhyDQM</td>\n",
       "      <td>185</td>\n",
       "      <td>playing tennis</td>\n",
       "      <td>train</td>\n",
       "    </tr>\n",
       "    <tr>\n",
       "      <th>2</th>\n",
       "      <td>--5OkAjCI7g</td>\n",
       "      <td>40</td>\n",
       "      <td>people belly laughing</td>\n",
       "      <td>train</td>\n",
       "    </tr>\n",
       "    <tr>\n",
       "      <th>3</th>\n",
       "      <td>--8puiAGLhs</td>\n",
       "      <td>30</td>\n",
       "      <td>car engine starting</td>\n",
       "      <td>train</td>\n",
       "    </tr>\n",
       "    <tr>\n",
       "      <th>4</th>\n",
       "      <td>--96EN9NUQM</td>\n",
       "      <td>242</td>\n",
       "      <td>alarm clock ringing</td>\n",
       "      <td>train</td>\n",
       "    </tr>\n",
       "  </tbody>\n",
       "</table>\n",
       "</div>"
      ],
      "text/plain": [
       "  youtube_video_id  start_seconds                  label  split\n",
       "0      --0PQM4-hqg             30     waterfall burbling  train\n",
       "1      --56QUhyDQM            185         playing tennis  train\n",
       "2      --5OkAjCI7g             40  people belly laughing  train\n",
       "3      --8puiAGLhs             30    car engine starting  train\n",
       "4      --96EN9NUQM            242    alarm clock ringing  train"
      ]
     },
     "execution_count": 5,
     "metadata": {},
     "output_type": "execute_result"
    }
   ],
   "source": [
    "df.head()"
   ]
  },
  {
   "cell_type": "code",
   "execution_count": 6,
   "metadata": {
    "ExecuteTime": {
     "end_time": "2024-04-22T01:46:23.381803Z",
     "start_time": "2024-04-22T01:46:23.249362Z"
    }
   },
   "outputs": [
    {
     "name": "stdout",
     "output_type": "stream",
     "text": [
      "cuda\n"
     ]
    }
   ],
   "source": [
    "device = torch.device(\"cuda\" if torch.cuda.is_available() else \"cpu\")\n",
    "\n",
    "print(device)"
   ]
  },
  {
   "cell_type": "code",
   "execution_count": 7,
   "metadata": {
    "ExecuteTime": {
     "end_time": "2024-04-22T01:46:24.197733Z",
     "start_time": "2024-04-22T01:46:24.191831Z"
    }
   },
   "outputs": [],
   "source": [
    "os.environ[\"TOKENIZERS_PARALLELISM\"] = \"false\" if device == \"cpu\" else \"true\""
   ]
  },
  {
   "cell_type": "code",
   "execution_count": 8,
   "metadata": {
    "ExecuteTime": {
     "end_time": "2024-04-22T01:49:09.980998Z",
     "start_time": "2024-04-22T01:49:09.944688Z"
    },
    "colab": {
     "base_uri": "https://localhost:8080/"
    },
    "id": "tbczws9u5z_X",
    "outputId": "6edbbb56-c736-40e8-b89b-37d79a2545cc"
   },
   "outputs": [],
   "source": [
    "def extract_audio_and_video_within_interval(youtube_video_id, input_video_path, start_time, end_time):\n",
    "    # Load the video clip\n",
    "    video_clip = VideoFileClip(input_video_path)\n",
    "\n",
    "    # Define the subclip with the specified start and end times\n",
    "    subclip = video_clip.subclip(start_time, end_time)\n",
    "\n",
    "    # Extract audio from the subclip\n",
    "    audio_clip = subclip.audio\n",
    "\n",
    "    # Resample the audio to 16 kHz\n",
    "    resampled_audio_clip = audio_clip.set_fps(16000)\n",
    "\n",
    "    # Write the resampled audio to a WAV file\n",
    "    audio_file_path = f\"./data/audio/audio_{youtube_video_id}.wav\"\n",
    "    resampled_audio_clip.write_audiofile(audio_file_path, codec='pcm_s16le')\n",
    "\n",
    "    # Write the video to an MP4 file\n",
    "    video_file_path = f\"./data/video/video_{youtube_video_id}.mp4\"\n",
    "    subclip.write_videofile(video_file_path, codec='libx264')\n",
    "\n",
    "    # Close the clips\n",
    "    video_clip.close()\n",
    "    audio_clip.close()"
   ]
  },
  {
   "cell_type": "code",
   "execution_count": 9,
   "metadata": {
    "ExecuteTime": {
     "end_time": "2024-04-22T01:49:10.878173Z",
     "start_time": "2024-04-22T01:49:10.868438Z"
    }
   },
   "outputs": [],
   "source": [
    "def download_files(youtube_video_id, start_seconds):\n",
    "    print(f\"Starting to download file: {youtube_video_id}\")\n",
    "\n",
    "    # Construct the YouTube video URL\n",
    "    video_url = f\"https://www.youtube.com/watch?v={youtube_video_id}\"\n",
    "\n",
    "    # Initialize a YouTube object with the URL\n",
    "    yt = YouTube(video_url)\n",
    "\n",
    "    downloaded_file = f\"{youtube_video_id}.mp4\"\n",
    "\n",
    "    try:\n",
    "        # Get a stream that includes both video and audio\n",
    "        stream = yt.streams.filter(progressive=True, file_extension='mp4').order_by('resolution').desc().first()\n",
    "\n",
    "        # Download the video\n",
    "        stream.download(output_path=\".\", filename=downloaded_file)\n",
    "\n",
    "        print(f\"Downloaded video: {youtube_video_id}\")\n",
    "\n",
    "        # Specify the start and end times for clipping (in seconds)\n",
    "        input_file_path = downloaded_file\n",
    "        extract_audio_and_video_within_interval(youtube_video_id, input_file_path, start_seconds,\n",
    "                                                start_seconds + TIME_DURATION_IN_SEC)\n",
    "\n",
    "        print(f\"Saved audio and video for: {youtube_video_id}\")\n",
    "\n",
    "    except Exception as e:\n",
    "        print(f\"Error downloading video with YouTube ID {youtube_video_id}: {e}\")\n",
    "\n",
    "    if os.path.exists(f\"./{downloaded_file}\"):\n",
    "        os.remove(f\"./{downloaded_file}\")"
   ]
  },
  {
   "cell_type": "code",
   "execution_count": 10,
   "metadata": {
    "ExecuteTime": {
     "end_time": "2024-04-22T01:49:11.501154Z",
     "start_time": "2024-04-22T01:49:11.493571Z"
    }
   },
   "outputs": [],
   "source": [
    "def extract_audio_video(limit=2):\n",
    "    start_time = datetime.datetime.now()\n",
    "    # Create a ThreadPoolExecutor with 3 worker threads\n",
    "    with concurrent.futures.ThreadPoolExecutor(max_workers=3) as executor:\n",
    "        # Submit each video downloading task for execution asynchronously\n",
    "        futures = [executor.submit(download_files, row['youtube_video_id'], row['start_seconds']) for index, row in\n",
    "                   df.iterrows() if index <= limit]\n",
    "\n",
    "        # Wait for all tasks to complete\n",
    "        concurrent.futures.wait(futures)\n",
    "\n",
    "    end_time = datetime.datetime.now()\n",
    "\n",
    "    total_time = (end_time - start_time) / 60\n",
    "\n",
    "    print(f\"Time taken for download: {total_time} minutes\")"
   ]
  },
  {
   "cell_type": "code",
   "execution_count": 11,
   "metadata": {
    "ExecuteTime": {
     "end_time": "2024-04-22T01:49:12.164432Z",
     "start_time": "2024-04-22T01:49:12.159013Z"
    }
   },
   "outputs": [],
   "source": [
    "count = 5"
   ]
  },
  {
   "cell_type": "code",
   "execution_count": 12,
   "metadata": {
    "ExecuteTime": {
     "end_time": "2024-04-22T01:49:52.184666Z",
     "start_time": "2024-04-22T01:49:13.064998Z"
    }
   },
   "outputs": [
    {
     "name": "stdout",
     "output_type": "stream",
     "text": [
      "Starting to download file: --0PQM4-hqg\n",
      "Starting to download file: --56QUhyDQM\n",
      "Starting to download file: --5OkAjCI7g\n",
      "Error downloading video with YouTube ID --5OkAjCI7g: --5OkAjCI7g is a private video\n",
      "Starting to download file: --8puiAGLhs\n",
      "Downloaded video: --0PQM4-hqg\n",
      "Downloaded video: --56QUhyDQM\n",
      "Downloaded video: --8puiAGLhs\n",
      "MoviePy - Writing audio in ./data/audio/audio_--0PQM4-hqg.wav\n"
     ]
    },
    {
     "name": "stderr",
     "output_type": "stream",
     "text": [
      "chunk:   1%|          | 1/81 [00:00<00:00, 263.81it/s, now=None]"
     ]
    },
    {
     "name": "stdout",
     "output_type": "stream",
     "text": [
      "MoviePy - Writing audio in ./data/audio/audio_--56QUhyDQM.wav\n"
     ]
    },
    {
     "name": "stderr",
     "output_type": "stream",
     "text": [
      "\n",
      "                                                                \n",
      "chunk:   1%|          | 1/81 [00:00<00:16,  4.78it/s, now=None]\n",
      "chunk:   1%|          | 1/81 [00:00<00:15,  5.29it/s, now=None]\u001b[A"
     ]
    },
    {
     "name": "stdout",
     "output_type": "stream",
     "text": [
      "MoviePy - Writing audio in ./data/audio/audio_--8puiAGLhs.wav\n"
     ]
    },
    {
     "name": "stderr",
     "output_type": "stream",
     "text": [
      "\n",
      "\n",
      "chunk:   2%|▏         | 2/81 [00:00<00:12,  6.28it/s, now=None]\n",
      "chunk:   2%|▏         | 2/81 [00:00<00:12,  6.12it/s, now=None]\u001b[A\n",
      "\n",
      "chunk:  33%|███▎      | 27/81 [00:00<00:00, 54.23it/s, now=None][A\u001b[A\n",
      "                                                                \u001b[A\n",
      "\n",
      "\u001b[A\u001b[A                                                         \n",
      "\u001b[A                                                             \n",
      "\n",
      "chunk:  32%|███▏      | 26/81 [00:00<00:07,  7.17it/s, now=None]\u001b[A\u001b[A\n",
      "chunk:  52%|█████▏    | 42/81 [00:00<00:00, 53.45it/s, now=None]\u001b[A\n",
      "\n",
      "\u001b[A\u001b[A                                                          \n",
      "\u001b[A                                                             \n",
      "\n",
      "chunk:  32%|███▏      | 26/81 [00:00<00:07,  7.17it/s, now=None]\u001b[A\u001b[A\n",
      "chunk:  56%|█████▌    | 45/81 [00:00<00:00, 53.45it/s, now=None]\u001b[A\n",
      "\n",
      "\u001b[A\u001b[A                                                          \n",
      "\u001b[A                                                             \n",
      "\n",
      "chunk:  32%|███▏      | 26/81 [00:00<00:07,  7.17it/s, now=None]\u001b[A\u001b[A\n",
      "chunk:  70%|███████   | 57/81 [00:00<00:00, 53.45it/s, now=None]\u001b[A"
     ]
    },
    {
     "name": "stdout",
     "output_type": "stream",
     "text": [
      "MoviePy - Done.\n",
      "Moviepy - Building video ./data/video/video_--0PQM4-hqg.mp4.\n",
      "MoviePy - Writing audio in video_--0PQM4-hqgTEMP_MPY_wvf_snd.mp3\n"
     ]
    },
    {
     "name": "stderr",
     "output_type": "stream",
     "text": [
      "chunk:   0%|          | 0/221 [00:00<?, ?it/s, now=None]\n",
      "                                                                \u001b[A\n",
      "\n",
      "chunk:   0%|          | 1/221 [00:00<00:06, 34.70it/s, now=None]\n",
      "\n",
      "                                                                \u001b[A\u001b[A\n",
      "\n",
      "chunk:   0%|          | 1/221 [00:00<00:06, 31.45it/s, now=None]\n",
      "\n",
      "                                                                \u001b[A\u001b[A\n",
      "\n",
      "chunk:   0%|          | 1/221 [00:00<00:08, 27.33it/s, now=None]\n",
      "\n",
      "chunk:  32%|███▏      | 26/81 [00:00<00:07,  7.17it/s, now=None]\u001b[A\u001b[A"
     ]
    },
    {
     "name": "stdout",
     "output_type": "stream",
     "text": [
      "MoviePy - Done.\n",
      "Moviepy - Building video ./data/video/video_--56QUhyDQM.mp4.\n",
      "MoviePy - Writing audio in video_--56QUhyDQMTEMP_MPY_wvf_snd.mp3\n"
     ]
    },
    {
     "name": "stderr",
     "output_type": "stream",
     "text": [
      "\n",
      "chunk:   0%|          | 0/221 [00:00<?, ?it/s, now=None]\u001b[A\n",
      "\n",
      "chunk:  33%|███▎      | 27/81 [00:00<00:01, 47.71it/s, now=None]\u001b[A\u001b[A\n",
      "\n",
      "                                                                \u001b[A\u001b[A\n",
      "chunk:   0%|          | 1/221 [00:00<00:51,  4.24it/s, now=None]\n",
      "                                                                \u001b[A\n",
      "chunk:   0%|          | 1/221 [00:00<00:53,  4.12it/s, now=None]\n",
      "                                                                \u001b[A\n",
      "chunk:   0%|          | 1/221 [00:00<00:54,  4.04it/s, now=None]\n",
      "chunk:   0%|          | 1/221 [00:00<00:41,  5.28it/s, now=None]\u001b[A"
     ]
    },
    {
     "name": "stdout",
     "output_type": "stream",
     "text": [
      "MoviePy - Done.\n",
      "Moviepy - Building video ./data/video/video_--8puiAGLhs.mp4.\n",
      "MoviePy - Writing audio in video_--8puiAGLhsTEMP_MPY_wvf_snd.mp3\n"
     ]
    },
    {
     "name": "stderr",
     "output_type": "stream",
     "text": [
      "\n",
      "\n",
      "chunk:   1%|          | 2/221 [00:00<00:38,  5.75it/s, now=None]\n",
      "chunk:   1%|          | 2/221 [00:00<00:35,  6.21it/s, now=None]\u001b[A\n",
      "\n",
      "chunk:  14%|█▍        | 32/221 [00:00<00:03, 61.95it/s, now=None][A\u001b[A\n",
      "chunk:  41%|████      | 90/221 [00:00<00:00, 174.72it/s, now=None][A\n",
      "chunk:  66%|██████▌   | 146/221 [00:00<00:00, 263.70it/s, now=None][A\n",
      "                                                                   \u001b[A\n",
      "chunk:  74%|███████▍  | 164/221 [00:00<00:00, 271.53it/s, now=None]\u001b[A\n",
      "\n",
      "\u001b[A\u001b[A                                                          \n",
      "\u001b[A                                                                \n",
      "\n",
      "chunk:  14%|█▍        | 31/221 [00:00<00:25,  7.35it/s, now=None]\u001b[A\u001b[A\n",
      "chunk:  77%|███████▋  | 170/221 [00:00<00:00, 271.53it/s, now=None]\u001b[A\n",
      "\n",
      "\u001b[A\u001b[A                                                           \n",
      "\u001b[A                                                                \n",
      "\n",
      "chunk:  14%|█▍        | 31/221 [00:00<00:25,  7.35it/s, now=None]\u001b[A\u001b[A\n",
      "chunk:  77%|███████▋  | 170/221 [00:00<00:00, 271.53it/s, now=None]\u001b[A"
     ]
    },
    {
     "name": "stdout",
     "output_type": "stream",
     "text": [
      "MoviePy - Done.\n",
      "Moviepy - Writing video ./data/video/video_--0PQM4-hqg.mp4\n",
      "\n"
     ]
    },
    {
     "name": "stderr",
     "output_type": "stream",
     "text": [
      "t:   0%|          | 0/300 [00:00<?, ?it/s, now=None]\n",
      "chunk:  95%|█████████▌| 210/221 [00:01<00:00, 314.97it/s, now=None]\u001b[A\n",
      "                                                                   \u001b[A\n",
      "\n",
      "t:   4%|▎         | 11/300 [00:00<00:03, 95.37it/s, now=None]    \n",
      "\n",
      "                                                             one]\u001b[A\u001b[A\n",
      "\n",
      "t:   4%|▎         | 11/300 [00:00<00:03, 89.96it/s, now=None]    \n",
      "\n",
      "chunk:  14%|█▍        | 31/221 [00:00<00:25,  7.35it/s, now=None]\u001b[A\u001b[A"
     ]
    },
    {
     "name": "stdout",
     "output_type": "stream",
     "text": [
      "MoviePy - Done.\n",
      "Moviepy - Writing video ./data/video/video_--56QUhyDQM.mp4\n",
      "\n"
     ]
    },
    {
     "name": "stderr",
     "output_type": "stream",
     "text": [
      "\n",
      "t:   0%|          | 0/300 [00:00<?, ?it/s, now=None]\u001b[A\n",
      "\n",
      "chunk:  14%|█▍        | 32/221 [00:00<00:05, 34.75it/s, now=None]\u001b[A\u001b[A\n",
      "\n",
      "chunk:  40%|███▉      | 88/221 [00:01<00:01, 105.17it/s, now=None]\u001b[A\u001b[A\n",
      "\n",
      "chunk:  70%|██████▉   | 154/221 [00:01<00:00, 193.79it/s, now=None]\u001b[A\u001b[A\n",
      "\n",
      "chunk:  96%|█████████▌| 212/221 [00:01<00:00, 265.30it/s, now=None]\u001b[A\u001b[A\n",
      "\n",
      "                                                                   \u001b[A\u001b[A\n",
      "t:   4%|▍         | 12/300 [00:00<00:14, 20.24it/s, now=None]\n",
      "                                                             \u001b[A\n",
      "t:   4%|▍         | 12/300 [00:00<00:14, 20.24it/s, now=None]\n",
      "t:   4%|▍         | 12/300 [00:00<00:14, 20.24it/s, now=None]\u001b[A"
     ]
    },
    {
     "name": "stdout",
     "output_type": "stream",
     "text": [
      "MoviePy - Done.\n",
      "Moviepy - Writing video ./data/video/video_--8puiAGLhs.mp4\n",
      "\n"
     ]
    },
    {
     "name": "stderr",
     "output_type": "stream",
     "text": [
      "\n",
      "\n",
      "t:  12%|█▏        | 35/300 [00:00<00:04, 60.95it/s, now=None]\n",
      "t:   4%|▍         | 12/300 [00:00<00:15, 18.52it/s, now=None]\u001b[A\n",
      "t:  18%|█▊        | 53/300 [00:01<00:04, 55.54it/s, now=None]\u001b[A\n",
      "t:  18%|█▊        | 53/300 [00:01<00:04, 59.35it/s, now=None]\u001b[A\n",
      "\n",
      "t:  21%|██▏       | 64/300 [00:01<00:05, 41.52it/s, now=None]\u001b[A\u001b[A\n",
      "\n",
      "t:  11%|█         | 33/300 [00:00<00:05, 44.92it/s, now=None]\u001b[A\u001b[A\n",
      "t:  21%|██▏       | 64/300 [00:01<00:05, 40.31it/s, now=None]\u001b[A\n",
      "\n",
      "t:  24%|██▍       | 72/300 [00:01<00:07, 32.32it/s, now=None]\u001b[A\u001b[A\n",
      "t:  26%|██▌       | 78/300 [00:02<00:07, 29.71it/s, now=None]\u001b[A\n",
      "\n",
      "t:  28%|██▊       | 83/300 [00:02<00:07, 27.15it/s, now=None]\u001b[A\u001b[A\n",
      "t:  29%|██▉       | 87/300 [00:02<00:08, 26.11it/s, now=None]\u001b[A\n",
      "\n",
      "t:  23%|██▎       | 70/300 [00:02<00:07, 31.32it/s, now=None]\u001b[A\u001b[A\n",
      "t:  30%|███       | 91/300 [00:02<00:08, 24.53it/s, now=None]\u001b[A\n",
      "t:  29%|██▉       | 87/300 [00:02<00:09, 23.53it/s, now=None]\u001b[A\n",
      "\n",
      "t:  31%|███▏      | 94/300 [00:03<00:09, 21.87it/s, now=None]\u001b[A\u001b[A\n",
      "t:  32%|███▏      | 97/300 [00:03<00:09, 21.78it/s, now=None]\u001b[A\n",
      "\n",
      "t:  26%|██▋       | 79/300 [00:02<00:08, 25.27it/s, now=None]\u001b[A\u001b[A\n",
      "t:  33%|███▎      | 100/300 [00:03<00:08, 22.77it/s, now=None][A\n",
      "t:  32%|███▏      | 96/300 [00:03<00:09, 21.74it/s, now=None]\u001b[A\n",
      "\n",
      "t:  34%|███▍      | 103/300 [00:03<00:08, 22.34it/s, now=None][A\u001b[A\n",
      "t:  33%|███▎      | 99/300 [00:03<00:08, 22.46it/s, now=None]\u001b[A\n",
      "\n",
      "t:  35%|███▌      | 106/300 [00:03<00:09, 20.44it/s, now=None][A\u001b[A\n",
      "t:  34%|███▍      | 103/300 [00:03<00:08, 23.49it/s, now=None]\u001b[A\n",
      "\n",
      "t:  36%|███▋      | 109/300 [00:03<00:09, 20.21it/s, now=None][A\u001b[A\n",
      "t:  37%|███▋      | 112/300 [00:03<00:08, 22.17it/s, now=None]\u001b[A\n",
      "\n",
      "t:  31%|███       | 92/300 [00:03<00:09, 21.41it/s, now=None]\u001b[A\u001b[A\n",
      "t:  37%|███▋      | 110/300 [00:03<00:08, 21.76it/s, now=None]\u001b[A\n",
      "\n",
      "t:  38%|███▊      | 115/300 [00:04<00:09, 19.03it/s, now=None][A\u001b[A\n",
      "\n",
      "t:  33%|███▎      | 98/300 [00:03<00:08, 23.03it/s, now=None]\u001b[A\u001b[A\n",
      "t:  39%|███▉      | 118/300 [00:04<00:09, 20.21it/s, now=None]\u001b[A\n",
      "\n",
      "t:  40%|████      | 121/300 [00:04<00:09, 19.89it/s, now=None]\u001b[A\u001b[A\n",
      "t:  39%|███▉      | 117/300 [00:04<00:08, 20.59it/s, now=None]\u001b[A\n",
      "\n",
      "t:  35%|███▍      | 104/300 [00:03<00:08, 21.80it/s, now=None]\u001b[A\u001b[A\n",
      "t:  41%|████▏     | 124/300 [00:04<00:09, 19.24it/s, now=None]\u001b[A\n",
      "t:  41%|████      | 123/300 [00:04<00:08, 21.15it/s, now=None]\u001b[A\n",
      "\n",
      "t:  43%|████▎     | 128/300 [00:04<00:09, 19.04it/s, now=None]\u001b[A\u001b[A\n",
      "t:  42%|████▏     | 126/300 [00:04<00:07, 22.31it/s, now=None]\u001b[A\n",
      "\n",
      "t:  44%|████▎     | 131/300 [00:04<00:07, 21.18it/s, now=None]\u001b[A\u001b[A\n",
      "t:  43%|████▎     | 129/300 [00:04<00:07, 24.06it/s, now=None]\u001b[A\n",
      "\n",
      "t:  45%|████▍     | 134/300 [00:04<00:07, 22.56it/s, now=None]\u001b[A\u001b[A\n",
      "t:  46%|████▌     | 137/300 [00:05<00:07, 20.73it/s, now=None]\u001b[A\n",
      "t:  45%|████▌     | 135/300 [00:05<00:07, 21.74it/s, now=None]\u001b[A\n",
      "\n",
      "t:  39%|███▊      | 116/300 [00:04<00:11, 16.11it/s, now=None]\u001b[A\u001b[A\n",
      "t:  46%|████▌     | 138/300 [00:05<00:07, 21.14it/s, now=None]\u001b[A\n",
      "\n",
      "t:  47%|████▋     | 140/300 [00:05<00:08, 18.50it/s, now=None]\u001b[A\u001b[A\n",
      "\n",
      "t:  48%|████▊     | 143/300 [00:05<00:08, 19.15it/s, now=None]\u001b[A\u001b[A\n",
      "t:  47%|████▋     | 142/300 [00:05<00:07, 21.73it/s, now=None]\u001b[A\n",
      "\n",
      "t:  41%|████      | 123/300 [00:04<00:09, 18.12it/s, now=None]\u001b[A\u001b[A\n",
      "t:  49%|████▊     | 146/300 [00:05<00:07, 21.29it/s, now=None]\u001b[A\n",
      "\n",
      "t:  42%|████▏     | 125/300 [00:05<00:09, 17.92it/s, now=None]\u001b[A\u001b[A\n",
      "t:  50%|████▉     | 149/300 [00:05<00:07, 19.67it/s, now=None]\u001b[A\n",
      "\n",
      "t:  42%|████▏     | 127/300 [00:05<00:10, 17.29it/s, now=None]\u001b[A\u001b[A\n",
      "\n",
      "t:  43%|████▎     | 129/300 [00:05<00:09, 17.28it/s, now=None]\u001b[A\u001b[A\n",
      "t:  51%|█████     | 152/300 [00:05<00:07, 18.84it/s, now=None]\u001b[A\n",
      "\n",
      "t:  44%|████▎     | 131/300 [00:05<00:09, 16.93it/s, now=None]\u001b[A\u001b[A\n",
      "t:  52%|█████▏    | 155/300 [00:06<00:07, 19.00it/s, now=None]\u001b[A\n",
      "\n",
      "t:  45%|████▍     | 134/300 [00:05<00:09, 18.20it/s, now=None]\u001b[A\u001b[A\n",
      "t:  53%|█████▎    | 159/300 [00:06<00:07, 19.16it/s, now=None]\u001b[A\n",
      "\n",
      "t:  45%|████▌     | 136/300 [00:05<00:09, 17.73it/s, now=None]\u001b[A\u001b[A\n",
      "t:  53%|█████▎    | 160/300 [00:06<00:07, 19.25it/s, now=None]\u001b[A\n",
      "\n",
      "t:  54%|█████▍    | 163/300 [00:06<00:06, 19.75it/s, now=None]\u001b[A\u001b[A\n",
      "t:  55%|█████▌    | 166/300 [00:06<00:06, 20.92it/s, now=None]\u001b[A\n",
      "\n",
      "t:  56%|█████▋    | 169/300 [00:06<00:06, 21.10it/s, now=None]\u001b[A\u001b[A\n",
      "t:  55%|█████▌    | 166/300 [00:06<00:07, 17.96it/s, now=None]\u001b[A\n",
      "\n",
      "t:  49%|████▊     | 146/300 [00:06<00:07, 20.42it/s, now=None]\u001b[A\u001b[A\n",
      "t:  57%|█████▋    | 172/300 [00:06<00:06, 19.42it/s, now=None]\u001b[A\n",
      "\n",
      "t:  50%|████▉     | 149/300 [00:06<00:07, 19.31it/s, now=None]\u001b[A\u001b[A\n",
      "t:  57%|█████▋    | 172/300 [00:06<00:06, 20.04it/s, now=None]\u001b[A\n",
      "\n",
      "t:  58%|█████▊    | 175/300 [00:07<00:06, 19.40it/s, now=None]\u001b[A\u001b[A\n",
      "t:  59%|█████▉    | 178/300 [00:07<00:05, 20.63it/s, now=None]\u001b[A\n",
      "\n",
      "t:  52%|█████▏    | 155/300 [00:06<00:07, 19.83it/s, now=None]\u001b[A\u001b[A\n",
      "t:  60%|██████    | 181/300 [00:07<00:05, 20.73it/s, now=None]\u001b[A\n",
      "\n",
      "t:  53%|█████▎    | 158/300 [00:06<00:07, 19.92it/s, now=None]\u001b[A\u001b[A\n",
      "t:  60%|██████    | 180/300 [00:07<00:06, 18.43it/s, now=None]\u001b[A\n",
      "\n",
      "t:  61%|██████▏   | 184/300 [00:07<00:05, 19.39it/s, now=None]\u001b[A\u001b[A\n",
      "t:  61%|██████    | 182/300 [00:07<00:06, 17.96it/s, now=None]\u001b[A\n",
      "\n",
      "t:  62%|██████▏   | 187/300 [00:07<00:05, 19.07it/s, now=None]\u001b[A\u001b[A\n",
      "t:  62%|██████▏   | 185/300 [00:07<00:06, 18.45it/s, now=None]\u001b[A\n",
      "\n",
      "t:  63%|██████▎   | 190/300 [00:07<00:05, 20.47it/s, now=None]\u001b[A\u001b[A\n",
      "t:  63%|██████▎   | 188/300 [00:07<00:05, 19.91it/s, now=None]\u001b[A\n",
      "\n",
      "t:  64%|██████▍   | 193/300 [00:07<00:05, 20.25it/s, now=None]\u001b[A\u001b[A\n",
      "t:  64%|██████▎   | 191/300 [00:07<00:06, 17.79it/s, now=None]\u001b[A\n",
      "\n",
      "t:  65%|██████▌   | 196/300 [00:08<00:05, 18.99it/s, now=None]\u001b[A\u001b[A\n",
      "t:  64%|██████▍   | 193/300 [00:08<00:06, 17.30it/s, now=None]\u001b[A\n",
      "\n",
      "t:  66%|██████▋   | 199/300 [00:08<00:05, 18.91it/s, now=None]\u001b[A\u001b[A\n",
      "t:  65%|██████▌   | 196/300 [00:08<00:05, 19.98it/s, now=None]\u001b[A\n",
      "\n",
      "t:  67%|██████▋   | 202/300 [00:08<00:04, 20.69it/s, now=None]\u001b[A\u001b[A\n",
      "t:  66%|██████▋   | 199/300 [00:08<00:05, 18.82it/s, now=None]\u001b[A\n",
      "\n",
      "t:  68%|██████▊   | 205/300 [00:08<00:04, 20.10it/s, now=None]\u001b[A\u001b[A\n",
      "t:  67%|██████▋   | 201/300 [00:08<00:05, 18.17it/s, now=None]\u001b[A\n",
      "\n",
      "t:  62%|██████▏   | 186/300 [00:08<00:05, 20.88it/s, now=None]\u001b[A\u001b[A\n",
      "t:  69%|██████▉   | 208/300 [00:08<00:04, 19.16it/s, now=None]\u001b[A\n",
      "\n",
      "t:  63%|██████▎   | 190/300 [00:08<00:05, 21.79it/s, now=None]\u001b[A\u001b[A\n",
      "t:  70%|███████   | 211/300 [00:08<00:04, 19.10it/s, now=None]\u001b[A\n",
      "\n",
      "t:  65%|██████▍   | 194/300 [00:08<00:04, 23.37it/s, now=None]\u001b[A\u001b[A\n",
      "t:  72%|███████▏  | 215/300 [00:09<00:04, 19.99it/s, now=None]\u001b[A\n",
      "t:  71%|███████   | 213/300 [00:08<00:03, 22.33it/s, now=None]\u001b[A\n",
      "\n",
      "t:  73%|███████▎  | 219/300 [00:09<00:03, 21.63it/s, now=None]\u001b[A\u001b[A\n",
      "\n",
      "t:  67%|██████▋   | 202/300 [00:08<00:03, 26.37it/s, now=None]\u001b[A\u001b[A\n",
      "t:  74%|███████▍  | 222/300 [00:09<00:03, 22.35it/s, now=None]\u001b[A\n",
      "\n",
      "t:  69%|██████▊   | 206/300 [00:08<00:03, 27.48it/s, now=None]\u001b[A\u001b[A\n",
      "t:  75%|███████▌  | 225/300 [00:09<00:03, 23.47it/s, now=None]\u001b[A\n",
      "\n",
      "t:  70%|███████   | 210/300 [00:08<00:03, 28.11it/s, now=None]\u001b[A\u001b[A\n",
      "t:  76%|███████▌  | 228/300 [00:09<00:03, 23.74it/s, now=None]\u001b[A\n",
      "t:  77%|███████▋  | 230/300 [00:09<00:02, 31.31it/s, now=None]\u001b[A\n",
      "\n",
      "t:  77%|███████▋  | 231/300 [00:09<00:02, 24.08it/s, now=None]\u001b[A\u001b[A\n",
      "t:  78%|███████▊  | 234/300 [00:09<00:02, 31.97it/s, now=None]\u001b[A\n",
      "\n",
      "t:  78%|███████▊  | 234/300 [00:09<00:03, 21.59it/s, now=None]\u001b[A\u001b[A\n",
      "t:  80%|███████▉  | 239/300 [00:09<00:01, 33.74it/s, now=None]\u001b[A\n",
      "\n",
      "t:  79%|███████▉  | 237/300 [00:10<00:02, 22.05it/s, now=None]\u001b[A\u001b[A\n",
      "t:  82%|████████▏ | 245/300 [00:09<00:01, 38.25it/s, now=None]\u001b[A\n",
      "\n",
      "t:  75%|███████▌  | 226/300 [00:09<00:02, 29.58it/s, now=None]\u001b[A\u001b[A\n",
      "t:  80%|████████  | 241/300 [00:10<00:02, 22.16it/s, now=None]\u001b[A\n",
      "\n",
      "t:  77%|███████▋  | 230/300 [00:09<00:02, 29.47it/s, now=None]\u001b[A\u001b[A\n",
      "t:  81%|████████▏ | 244/300 [00:10<00:02, 23.49it/s, now=None]\u001b[A\n",
      "\n",
      "t:  78%|███████▊  | 234/300 [00:09<00:02, 29.01it/s, now=None]\u001b[A\u001b[A\n",
      "t:  82%|████████▏ | 247/300 [00:10<00:02, 21.43it/s, now=None]\u001b[A\n",
      "\n",
      "t:  79%|███████▉  | 238/300 [00:09<00:02, 29.24it/s, now=None]\u001b[A\u001b[A\n",
      "t:  88%|████████▊ | 265/300 [00:10<00:00, 43.09it/s, now=None]\u001b[A\n",
      "\n",
      "t:  83%|████████▎ | 250/300 [00:10<00:02, 21.12it/s, now=None]\u001b[A\u001b[A\n",
      "t:  90%|█████████ | 270/300 [00:10<00:00, 39.42it/s, now=None]\u001b[A\n",
      "\n",
      "t:  84%|████████▍ | 253/300 [00:10<00:02, 21.03it/s, now=None]\u001b[A\u001b[A\n",
      "t:  92%|█████████▏| 275/300 [00:10<00:00, 35.47it/s, now=None]\u001b[A\n",
      "\n",
      "t:  85%|████████▌ | 256/300 [00:10<00:01, 22.51it/s, now=None]\u001b[A\u001b[A\n",
      "t:  93%|█████████▎| 279/300 [00:10<00:00, 36.46it/s, now=None]\u001b[A\n",
      "\n",
      "t:  83%|████████▎ | 250/300 [00:10<00:02, 24.64it/s, now=None]\u001b[A\u001b[A\n",
      "t:  86%|████████▋ | 259/300 [00:11<00:01, 20.88it/s, now=None]\u001b[A\n",
      "\n",
      "t:  84%|████████▍ | 253/300 [00:10<00:01, 24.26it/s, now=None]\u001b[A\u001b[A\n",
      "t:  87%|████████▋ | 262/300 [00:11<00:01, 20.59it/s, now=None]\u001b[A\n",
      "\n",
      "t:  85%|████████▌ | 256/300 [00:10<00:01, 24.24it/s, now=None]\u001b[A\u001b[A\n",
      "t:  88%|████████▊ | 265/300 [00:11<00:01, 20.53it/s, now=None]\u001b[A\n",
      "t:  98%|█████████▊| 295/300 [00:11<00:00, 36.34it/s, now=None]\u001b[A\n",
      "\n",
      "t:  89%|████████▉ | 268/300 [00:11<00:01, 21.87it/s, now=None]\u001b[A\u001b[A\n",
      "t: 100%|█████████▉| 299/300 [00:11<00:00, 36.11it/s, now=None]\u001b[A\n",
      "                                                              \u001b[A\n",
      "\n",
      "t:  90%|█████████ | 271/300 [00:11<00:01, 20.69it/s, now=None]\u001b[A\u001b[A\n",
      "\n",
      "t:  91%|█████████▏| 274/300 [00:11<00:01, 22.46it/s, now=None]\u001b[A\u001b[A\n",
      "\n",
      "t:  93%|█████████▎| 278/300 [00:11<00:00, 25.82it/s, now=None]\u001b[A\u001b[A\n",
      "\n",
      "t:  94%|█████████▎| 281/300 [00:11<00:00, 26.05it/s, now=None]\u001b[A\u001b[A\n",
      "\n",
      "t:  95%|█████████▌| 285/300 [00:12<00:00, 27.59it/s, now=None]\u001b[A\u001b[A\n",
      "\n",
      "t:  97%|█████████▋| 291/300 [00:12<00:00, 27.80it/s, now=None]\u001b[A\u001b[A\n",
      "\n",
      "                                                              \u001b[A\u001b[A\n",
      "\n",
      "t:  98%|█████████▊| 294/300 [00:12<00:00, 27.74it/s, now=None]\n",
      "\n",
      "                                                              \u001b[A\u001b[A\n",
      "\n",
      "t:  98%|█████████▊| 294/300 [00:12<00:00, 27.74it/s, now=None]\n",
      "\n",
      "t:  95%|█████████▍| 284/300 [00:11<00:00, 23.30it/s, now=None]\u001b[A\u001b[A\n",
      "\n",
      "t:  99%|█████████▉| 297/300 [00:12<00:00, 27.18it/s, now=None]\u001b[A\u001b[A\n",
      "\n",
      "                                                              \u001b[A\u001b[A\r"
     ]
    },
    {
     "name": "stdout",
     "output_type": "stream",
     "text": [
      "Moviepy - Done !\n",
      "Moviepy - video ready ./data/video/video_--56QUhyDQM.mp4\n",
      "Saved audio and video for: --56QUhyDQM\n",
      "Starting to download file: --96EN9NUQM\n"
     ]
    },
    {
     "name": "stderr",
     "output_type": "stream",
     "text": [
      "\n",
      "\n",
      "t:  98%|█████████▊| 295/300 [00:12<00:00, 32.11it/s, now=None]\u001b[A\u001b[A\n",
      "\n",
      "t: 100%|██████████| 300/300 [00:12<00:00, 36.37it/s, now=None]\u001b[A\u001b[A\n",
      "\n",
      "                                                              \u001b[A\u001b[A"
     ]
    },
    {
     "name": "stdout",
     "output_type": "stream",
     "text": [
      "Moviepy - Done !\n",
      "Moviepy - video ready ./data/video/video_--8puiAGLhs.mp4\n",
      "Saved audio and video for: --8puiAGLhs\n",
      "Starting to download file: --9O4XZOge4\n",
      "Moviepy - Done !\n",
      "Moviepy - video ready ./data/video/video_--0PQM4-hqg.mp4\n",
      "Saved audio and video for: --0PQM4-hqg\n",
      "Downloaded video: --9O4XZOge4\n",
      "Downloaded video: --96EN9NUQM\n",
      "MoviePy - Writing audio in ./data/audio/audio_--9O4XZOge4.wav\n"
     ]
    },
    {
     "name": "stderr",
     "output_type": "stream",
     "text": [
      "chunk:   1%|          | 1/81 [00:00<00:15,  5.14it/s, now=None]"
     ]
    },
    {
     "name": "stdout",
     "output_type": "stream",
     "text": [
      "MoviePy - Writing audio in ./data/audio/audio_--96EN9NUQM.wav\n"
     ]
    },
    {
     "name": "stderr",
     "output_type": "stream",
     "text": [
      "\n",
      "chunk:   2%|▏         | 2/81 [00:00<00:09,  8.30it/s, now=None]\n",
      "                                                               e]\u001b[A\n",
      "                                                                 \u001b[A"
     ]
    },
    {
     "name": "stdout",
     "output_type": "stream",
     "text": [
      "MoviePy - Done.\n",
      "Moviepy - Building video ./data/video/video_--9O4XZOge4.mp4.\n",
      "MoviePy - Writing audio in video_--9O4XZOge4TEMP_MPY_wvf_snd.mp3\n",
      "MoviePy - Done.\n",
      "Moviepy - Building video ./data/video/video_--96EN9NUQM.mp4.\n",
      "MoviePy - Writing audio in video_--96EN9NUQMTEMP_MPY_wvf_snd.mp3\n"
     ]
    },
    {
     "name": "stderr",
     "output_type": "stream",
     "text": [
      "chunk:   0%|          | 0/221 [00:00<?, ?it/s, now=None]\n",
      "                                                                   \n",
      "\u001b[A                                                     \n",
      "chunk:  14%|█▍        | 31/221 [00:00<00:01, 107.67it/s, now=None]\u001b[A\n",
      "\u001b[A                                                               \n",
      "chunk:  14%|█▍        | 31/221 [00:00<00:01, 106.19it/s, now=None]\u001b[A\n",
      "chunk:  14%|█▍        | 32/221 [00:00<00:01, 106.77it/s, now=None]\u001b[A"
     ]
    },
    {
     "name": "stdout",
     "output_type": "stream",
     "text": [
      "MoviePy - Done.\n",
      "Moviepy - Writing video ./data/video/video_--9O4XZOge4.mp4\n",
      "\n"
     ]
    },
    {
     "name": "stderr",
     "output_type": "stream",
     "text": [
      "t:   0%|          | 0/240 [00:00<?, ?it/s, now=None]\n",
      "t:   4%|▍         | 9/240 [00:00<00:02, 83.39it/s, now=None]=None]\u001b[A\n",
      "chunk:  73%|███████▎  | 161/221 [00:00<00:00, 404.41it/s, now=None]\u001b[A\n",
      "t:   5%|▍         | 11/240 [00:00<00:02, 83.39it/s, now=None]      \u001b[A"
     ]
    },
    {
     "name": "stdout",
     "output_type": "stream",
     "text": [
      "MoviePy - Done.\n",
      "Moviepy - Writing video ./data/video/video_--96EN9NUQM.mp4\n",
      "\n"
     ]
    },
    {
     "name": "stderr",
     "output_type": "stream",
     "text": [
      "\n",
      "t:  20%|█▉        | 47/240 [00:00<00:02, 72.38it/s, now=None]\n",
      "t:   4%|▍         | 12/300 [00:00<00:13, 20.90it/s, now=None]\u001b[A\n",
      "t:   6%|▋         | 19/300 [00:00<00:09, 30.59it/s, now=None]\u001b[A\n",
      "t:   9%|▊         | 26/300 [00:00<00:07, 38.91it/s, now=None]\u001b[A\n",
      "t:  11%|█         | 33/300 [00:00<00:05, 45.60it/s, now=None]\u001b[A\n",
      "t:  13%|█▎        | 40/300 [00:00<00:05, 51.42it/s, now=None]\u001b[A\n",
      "t:  23%|██▎       | 56/240 [00:01<00:07, 24.53it/s, now=None]\u001b[A\n",
      "t:  26%|██▌       | 62/240 [00:02<00:09, 19.49it/s, now=None]\u001b[A\n",
      "t:  30%|██▉       | 71/240 [00:02<00:10, 15.39it/s, now=None]\u001b[A\n",
      "t:  31%|███       | 74/240 [00:03<00:10, 15.13it/s, now=None]\u001b[A\n",
      "t:  32%|███▏      | 77/240 [00:03<00:11, 13.70it/s, now=None]\u001b[A\n",
      "t:  33%|███▎      | 79/240 [00:03<00:12, 13.04it/s, now=None]\u001b[A\n",
      "t:  34%|███▍      | 81/240 [00:03<00:11, 13.40it/s, now=None]\u001b[A\n",
      "t:  35%|███▍      | 83/240 [00:03<00:12, 12.89it/s, now=None]\u001b[A\n",
      "t:  35%|███▌      | 85/240 [00:04<00:14, 10.96it/s, now=None]\u001b[A\n",
      "t:  37%|███▋      | 89/240 [00:04<00:12, 12.08it/s, now=None]\u001b[A\n",
      "t:  38%|███▊      | 91/240 [00:04<00:11, 12.44it/s, now=None]\u001b[A\n",
      "t:  39%|███▉      | 93/240 [00:04<00:14, 10.22it/s, now=None]\u001b[A\n",
      "t:  40%|███▉      | 95/240 [00:05<00:13, 10.66it/s, now=None]\u001b[A\n",
      "t:  40%|████      | 97/240 [00:05<00:13, 10.81it/s, now=None]\u001b[A\n",
      "t:  41%|████▏     | 99/240 [00:05<00:12, 11.18it/s, now=None]\u001b[A\n",
      "t:  43%|████▎     | 103/240 [00:05<00:12, 11.00it/s, now=None][A\n",
      "t:  44%|████▍     | 105/240 [00:05<00:11, 11.43it/s, now=None][A\n",
      "t:  45%|████▍     | 107/240 [00:06<00:11, 11.50it/s, now=None][A\n",
      "t:  45%|████▌     | 109/240 [00:06<00:11, 11.64it/s, now=None][A\n",
      "t:  46%|████▋     | 111/240 [00:06<00:11, 10.81it/s, now=None][A\n",
      "t:  47%|████▋     | 113/240 [00:06<00:12, 10.16it/s, now=None][A\n",
      "t:  48%|████▊     | 115/240 [00:06<00:12, 10.08it/s, now=None]\u001b[A\n",
      "t:  49%|████▉     | 117/240 [00:07<00:11, 10.32it/s, now=None]\u001b[A\n",
      "t:  50%|█████     | 121/240 [00:07<00:10, 11.67it/s, now=None]\u001b[A\n",
      "t:  51%|█████▏    | 123/240 [00:07<00:10, 11.38it/s, now=None]\u001b[A\n",
      "t:  52%|█████▏    | 125/240 [00:07<00:09, 11.94it/s, now=None]\u001b[A\n",
      "t:  53%|█████▎    | 127/240 [00:08<00:11, 10.20it/s, now=None]\u001b[A\n",
      "t:  54%|█████▍    | 129/240 [00:08<00:10, 11.04it/s, now=None]\u001b[A\n",
      "t:  55%|█████▍    | 131/240 [00:08<00:10, 10.38it/s, now=None]\u001b[A\n",
      "t:  56%|█████▋    | 135/240 [00:08<00:10, 10.35it/s, now=None]\u001b[A\n",
      "t:  57%|█████▋    | 137/240 [00:08<00:08, 11.49it/s, now=None]\u001b[A\n",
      "t:  59%|█████▉    | 141/240 [00:09<00:08, 11.08it/s, now=None]\u001b[A\n",
      "t:  60%|█████▉    | 143/240 [00:09<00:08, 11.84it/s, now=None]\u001b[A\n",
      "t:  60%|██████    | 145/240 [00:09<00:08, 11.84it/s, now=None]\u001b[A\n",
      "t:  61%|██████▏   | 147/240 [00:09<00:07, 12.41it/s, now=None]\u001b[A\n",
      "t:  62%|██████▏   | 149/240 [00:09<00:07, 12.00it/s, now=None]\u001b[A\n",
      "t:  63%|██████▎   | 151/240 [00:10<00:06, 12.73it/s, now=None]\u001b[A\n",
      "t:  64%|██████▍   | 153/240 [00:10<00:07, 12.09it/s, now=None]\u001b[A\n",
      "t:  65%|██████▍   | 155/240 [00:10<00:06, 12.90it/s, now=None]\u001b[A\n",
      "t:  65%|██████▌   | 157/240 [00:10<00:06, 12.25it/s, now=None]\u001b[A\n",
      "t:  66%|██████▋   | 159/240 [00:10<00:06, 12.90it/s, now=None]\u001b[A\n",
      "t:  68%|██████▊   | 163/240 [00:11<00:05, 12.94it/s, now=None]\u001b[A\n",
      "t:  45%|████▌     | 136/300 [00:10<00:23,  7.05it/s, now=None]\u001b[A\n",
      "t:  70%|██████▉   | 167/240 [00:11<00:05, 12.41it/s, now=None]\u001b[A\n",
      "t:  71%|███████▏  | 171/240 [00:11<00:05, 12.91it/s, now=None]\u001b[A\n",
      "t:  73%|███████▎  | 175/240 [00:11<00:04, 13.23it/s, now=None]\u001b[A\n",
      "t:  48%|████▊     | 144/300 [00:11<00:19,  7.87it/s, now=None]\u001b[A\n",
      "t:  75%|███████▍  | 179/240 [00:12<00:05, 11.49it/s, now=None]\u001b[A\n",
      "t:  49%|████▉     | 148/300 [00:12<00:18,  8.36it/s, now=None]\u001b[A\n",
      "t:  75%|███████▌  | 181/240 [00:12<00:05, 10.46it/s, now=None]\u001b[A\n",
      "t:  77%|███████▋  | 185/240 [00:12<00:04, 11.49it/s, now=None]\u001b[A\n",
      "t:  78%|███████▊  | 187/240 [00:13<00:04, 12.34it/s, now=None]\u001b[A\n",
      "t:  80%|███████▉  | 191/240 [00:13<00:03, 13.99it/s, now=None]\u001b[A\n",
      "t:  80%|████████  | 193/240 [00:13<00:03, 13.34it/s, now=None]\u001b[A\n",
      "t:  82%|████████▏ | 197/240 [00:13<00:03, 12.61it/s, now=None]\u001b[A\n",
      "t:  84%|████████▍ | 201/240 [00:14<00:03, 12.07it/s, now=None]\u001b[A\n",
      "t:  85%|████████▍ | 203/240 [00:14<00:02, 12.80it/s, now=None]\u001b[A\n",
      "t:  85%|████████▌ | 205/240 [00:14<00:03, 11.50it/s, now=None]\u001b[A\n",
      "t:  86%|████████▋ | 207/240 [00:14<00:02, 12.54it/s, now=None]\u001b[A\n",
      "t:  88%|████████▊ | 211/240 [00:14<00:02, 13.07it/s, now=None]\u001b[A\n",
      "t:  89%|████████▉ | 213/240 [00:15<00:02, 11.86it/s, now=None]\u001b[A\n",
      "t:  90%|█████████ | 217/240 [00:15<00:01, 12.03it/s, now=None]\u001b[A\n",
      "t:  58%|█████▊    | 173/300 [00:15<00:16,  7.57it/s, now=None]\u001b[A\n",
      "t:  91%|█████████▏| 219/240 [00:15<00:01, 12.33it/s, now=None]\u001b[A\n",
      "t:  93%|█████████▎| 223/240 [00:15<00:01, 12.83it/s, now=None]\u001b[A\n",
      "t:  94%|█████████▍| 225/240 [00:16<00:01, 12.49it/s, now=None]\u001b[A\n",
      "t:  95%|█████████▍| 227/240 [00:16<00:00, 13.86it/s, now=None]\u001b[A\n",
      "t:  60%|█████▉    | 179/300 [00:15<00:15,  7.88it/s, now=None]\u001b[A\n",
      "t:  96%|█████████▋| 231/240 [00:16<00:00, 11.75it/s, now=None]\u001b[A\n",
      "t:  97%|█████████▋| 233/240 [00:16<00:00, 11.76it/s, now=None]\u001b[A\n",
      "t:  98%|█████████▊| 235/240 [00:16<00:00, 11.96it/s, now=None]\u001b[A\n",
      "t: 100%|█████████▉| 239/240 [00:17<00:00, 12.74it/s, now=None]\u001b[A\n",
      "                                                              \u001b[A\n",
      "t:  63%|██████▎   | 189/300 [00:17<00:14,  7.49it/s, now=None]\u001b[A\n",
      "t:  64%|██████▎   | 191/300 [00:17<00:15,  7.15it/s, now=None]\u001b[A\n",
      "t:  64%|██████▍   | 193/300 [00:17<00:12,  8.31it/s, now=None]\u001b[A\n",
      "t:  65%|██████▍   | 194/300 [00:17<00:13,  7.77it/s, now=None]\u001b[A\n",
      "t:  65%|██████▌   | 196/300 [00:18<00:13,  7.89it/s, now=None]\u001b[A\n",
      "t:  66%|██████▌   | 198/300 [00:18<00:11,  8.91it/s, now=None]\u001b[A\n",
      "t:  67%|██████▋   | 200/300 [00:18<00:11,  8.44it/s, now=None]\u001b[A\n",
      "t:  67%|██████▋   | 202/300 [00:18<00:10,  9.38it/s, now=None]\u001b[A\n",
      "t:  68%|██████▊   | 204/300 [00:19<00:10,  9.25it/s, now=None]\u001b[A\n",
      "t:  69%|██████▊   | 206/300 [00:19<00:09, 10.19it/s, now=None]\u001b[A\n",
      "t:  69%|██████▉   | 208/300 [00:19<00:09,  9.66it/s, now=None]\u001b[A\n",
      "t:  70%|███████   | 210/300 [00:19<00:08, 10.50it/s, now=None]\u001b[A\n",
      "t:  71%|███████   | 212/300 [00:19<00:09,  9.72it/s, now=None]\u001b[A\n",
      "t:  71%|███████▏  | 214/300 [00:19<00:08, 10.49it/s, now=None]\u001b[A\n",
      "\u001b[A                                                           \n",
      "t:  72%|███████▏  | 215/300 [00:20<00:08, 10.49it/s, now=None]\u001b[A\n",
      "\u001b[A                                                           \n",
      "t:  72%|███████▏  | 215/300 [00:20<00:08, 10.49it/s, now=None]\u001b[A\n",
      "t:  72%|███████▏  | 216/300 [00:20<00:08, 10.43it/s, now=None]\u001b[A"
     ]
    },
    {
     "name": "stdout",
     "output_type": "stream",
     "text": [
      "Moviepy - Done !\n",
      "Moviepy - video ready ./data/video/video_--9O4XZOge4.mp4\n",
      "Saved audio and video for: --9O4XZOge4\n"
     ]
    },
    {
     "name": "stderr",
     "output_type": "stream",
     "text": [
      "\n",
      "t:  73%|███████▎  | 219/300 [00:20<00:05, 13.52it/s, now=None]\u001b[A\n",
      "t:  74%|███████▎  | 221/300 [00:20<00:05, 14.31it/s, now=None]\u001b[A\n",
      "t:  75%|███████▍  | 224/300 [00:20<00:04, 15.59it/s, now=None]\u001b[A\n",
      "t:  76%|███████▌  | 227/300 [00:20<00:04, 16.22it/s, now=None]\u001b[A\n",
      "t:  77%|███████▋  | 230/300 [00:20<00:03, 18.02it/s, now=None]\u001b[A\n",
      "t:  77%|███████▋  | 232/300 [00:20<00:03, 17.45it/s, now=None]\u001b[A\n",
      "t:  78%|███████▊  | 234/300 [00:21<00:03, 16.52it/s, now=None]\u001b[A\n",
      "t:  79%|███████▊  | 236/300 [00:21<00:04, 15.99it/s, now=None]\u001b[A\n",
      "t:  80%|███████▉  | 239/300 [00:21<00:03, 17.61it/s, now=None]\u001b[A\n",
      "t:  80%|████████  | 241/300 [00:21<00:03, 16.23it/s, now=None]\u001b[A\n",
      "t:  81%|████████▏ | 244/300 [00:21<00:03, 16.78it/s, now=None]\u001b[A\n",
      "t:  82%|████████▏ | 247/300 [00:21<00:02, 18.09it/s, now=None]\u001b[A\n",
      "t:  83%|████████▎ | 249/300 [00:21<00:02, 17.44it/s, now=None]\u001b[A\n",
      "t:  84%|████████▎ | 251/300 [00:22<00:03, 16.20it/s, now=None]\u001b[A\n",
      "t:  85%|████████▍ | 254/300 [00:22<00:02, 16.42it/s, now=None]\u001b[A\n",
      "t:  86%|████████▌ | 257/300 [00:22<00:02, 18.06it/s, now=None]\u001b[A\n",
      "t:  86%|████████▋ | 259/300 [00:22<00:02, 16.99it/s, now=None]\u001b[A\n",
      "t:  87%|████████▋ | 262/300 [00:22<00:02, 17.31it/s, now=None]\u001b[A\n",
      "t:  88%|████████▊ | 265/300 [00:22<00:01, 18.88it/s, now=None]\u001b[A\n",
      "t:  89%|████████▉ | 267/300 [00:23<00:01, 17.15it/s, now=None]\u001b[A\n",
      "t:  90%|████████▉ | 269/300 [00:23<00:01, 16.95it/s, now=None]\u001b[A\n",
      "t:  91%|█████████ | 272/300 [00:23<00:01, 19.24it/s, now=None]\u001b[A\n",
      "t:  91%|█████████▏| 274/300 [00:23<00:01, 17.97it/s, now=None]\u001b[A\n",
      "t:  92%|█████████▏| 277/300 [00:23<00:01, 18.17it/s, now=None]\u001b[A\n",
      "t:  93%|█████████▎| 280/300 [00:23<00:00, 20.12it/s, now=None]\u001b[A\n",
      "t:  94%|█████████▍| 283/300 [00:23<00:00, 18.48it/s, now=None]\u001b[A\n",
      "t:  95%|█████████▌| 285/300 [00:24<00:00, 17.79it/s, now=None]\u001b[A\n",
      "t:  96%|█████████▌| 288/300 [00:24<00:00, 19.99it/s, now=None]\u001b[A\n",
      "t:  97%|█████████▋| 291/300 [00:24<00:00, 19.16it/s, now=None]\u001b[A\n",
      "t:  98%|█████████▊| 293/300 [00:24<00:00, 18.30it/s, now=None]\u001b[A\n",
      "t:  99%|█████████▊| 296/300 [00:24<00:00, 20.49it/s, now=None]\u001b[A\n",
      "t: 100%|█████████▉| 299/300 [00:24<00:00, 19.06it/s, now=None]\u001b[A\n",
      "                                                              \u001b[A"
     ]
    },
    {
     "name": "stdout",
     "output_type": "stream",
     "text": [
      "Moviepy - Done !\n",
      "Moviepy - video ready ./data/video/video_--96EN9NUQM.mp4\n",
      "Saved audio and video for: --96EN9NUQM\n",
      "Time taken for download: 0:00:00.832292 minutes\n"
     ]
    }
   ],
   "source": [
    "extract_audio_video(count)"
   ]
  },
  {
   "cell_type": "code",
   "execution_count": null,
   "metadata": {},
   "outputs": [],
   "source": []
  }
 ],
 "metadata": {
  "accelerator": "GPU",
  "colab": {
   "gpuType": "T4",
   "provenance": []
  },
  "kernelspec": {
   "display_name": "my_env",
   "language": "python",
   "name": "my_env"
  },
  "language_info": {
   "codemirror_mode": {
    "name": "ipython",
    "version": 3
   },
   "file_extension": ".py",
   "mimetype": "text/x-python",
   "name": "python",
   "nbconvert_exporter": "python",
   "pygments_lexer": "ipython3",
   "version": "3.12.2"
  }
 },
 "nbformat": 4,
 "nbformat_minor": 4
}
